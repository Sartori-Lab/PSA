{
 "cells": [
  {
   "cell_type": "code",
   "execution_count": 1,
   "metadata": {},
   "outputs": [],
   "source": [
    "import warnings\n",
    "warnings.filterwarnings(\"ignore\")\n",
    "\n",
    "import numpy as np\n",
    "\n",
    "# proFSA\n",
    "import fsa.load as load\n",
    "import fsa.spatial as spatial\n",
    "import fsa.sequence as seq\n",
    "import fsa.elastic as elastic"
   ]
  },
  {
   "cell_type": "code",
   "execution_count": 2,
   "metadata": {},
   "outputs": [],
   "source": [
    "# Selected values from the GUI\n",
    "\n",
    "spatial_alignment = True\n",
    "WEIGHT_METHOD = \"Binary\"\n",
    "SELECTION = \"Intersection\"\n",
    "\n",
    "# Binary: params = radius\n",
    "if WEIGHT_METHOD == \"Binary\":\n",
    "    params = [10.]\n",
    "    \n",
    "    if SELECTION == \"Relaxed\":\n",
    "        method = \"intersect\"\n",
    "        structure_list = [\"rel\"]\n",
    "        \n",
    "    elif SELECTION == \"Deformed\":\n",
    "        method = \"intersect\"\n",
    "        structure_list = [\"def\"]\n",
    "    \n",
    "    elif SELECTION == \"Union\":\n",
    "        method = \"union\"\n",
    "        structure_list = [\"rel\", \"def\"]\n",
    "    \n",
    "    elif SELECTION == \"Intersection\":\n",
    "        method = \"intersect\"\n",
    "        structure_list = [\"rel\", \"def\"]\n",
    "    \n",
    "# Linear: params = inner radius, outter radius\n",
    "elif WEIGHT_METHOD == \"Linear\":\n",
    "    params = [10., 11.]\n",
    "    \n",
    "    if SELECTION == \"Relaxed\":\n",
    "        method = \"linear\"\n",
    "        structure_list = [\"rel\"]\n",
    "        \n",
    "    elif SELECTION == \"Deformed\":\n",
    "        method = \"linear\"\n",
    "        structure_list = [\"def\"]\n",
    "    \n",
    "    elif SELECTION == \"Average\":\n",
    "        method = \"linear\"\n",
    "        structure_list = [\"rel\", \"def\"]    \n",
    "\n",
    "# N nearest: params = neighbouts\n",
    "elif WEIGHT_METHOD == \"N nearest\":\n",
    "    params = [3]\n",
    "    \n",
    "    if SELECTION == \"Relaxed\":\n",
    "        method = \"minimal\"\n",
    "        structure_list = [\"rel\"]\n",
    "        \n",
    "    elif SELECTION == \"Deformed\":\n",
    "        method = \"minimal\"\n",
    "        structure_list = [\"def\"]\n"
   ]
  },
  {
   "cell_type": "code",
   "execution_count": 3,
   "metadata": {},
   "outputs": [],
   "source": [
    "# Input\n",
    "rel_pdb, def_pdb = '6FKI', '6FKF'\n",
    "\n",
    "# Load\n",
    "rel_pps = load.single_structure(rel_pdb)\n",
    "def_pps = load.single_structure(def_pdb)"
   ]
  },
  {
   "cell_type": "code",
   "execution_count": 4,
   "metadata": {
    "scrolled": false
   },
   "outputs": [],
   "source": [
    "# Sequence alignment\n",
    "com_res, rel_dict, def_dict = seq.pairwise_alignment(rel_pps, def_pps)"
   ]
  },
  {
   "cell_type": "code",
   "execution_count": 5,
   "metadata": {},
   "outputs": [],
   "source": [
    "# Spatial alignment\n",
    "if spatial_alignment:\n",
    "    spatial.align_structures(rel_pps,\n",
    "                             def_pps,\n",
    "                             common_res = com_res,\n",
    "                             rel_dict = rel_dict,\n",
    "                             def_dict = def_dict)"
   ]
  },
  {
   "cell_type": "code",
   "execution_count": 6,
   "metadata": {},
   "outputs": [],
   "source": [
    "# Coordinates\n",
    "rel_xyz, rel_labels = load.coordinates(rel_pps,\n",
    "                                       com_res,\n",
    "                                       rel_dict)\n",
    "\n",
    "def_xyz, def_labels = load.coordinates(def_pps,\n",
    "                                       com_res,\n",
    "                                       def_dict)\n"
   ]
  },
  {
   "cell_type": "code",
   "execution_count": 7,
   "metadata": {},
   "outputs": [],
   "source": [
    "# Strain prepare\n",
    "xyz_list = []\n",
    "if \"rel\" in structure_list:\n",
    "    xyz_list.append(rel_xyz)\n",
    "if \"def\" in structure_list:\n",
    "    xyz_list.append(def_xyz)\n",
    "\n",
    "weights = elastic.compute_weights_fast(xyz_list,\n",
    "                                       method = method,\n",
    "                                       parameters = params)\n",
    "\n",
    "F = elastic.deformation_gradient_fast(weights, rel_xyz, def_xyz)"
   ]
  },
  {
   "cell_type": "code",
   "execution_count": 8,
   "metadata": {},
   "outputs": [],
   "source": [
    "# Strain results\n",
    "rot_angle, rot_axis = elastic.rotations(F)\n",
    "rot_axis = spatial.vector_to_polar(rel_xyz, rot_axis)\n",
    "_, gam_n = elastic.lagrange_strain(F)\n",
    "stretches, stretch_axis = elastic.principal_stretches_from_g(gam_n)"
   ]
  },
  {
   "cell_type": "code",
   "execution_count": 9,
   "metadata": {},
   "outputs": [],
   "source": [
    "# Save to PDB\n",
    "strain_cluster_dict = {}\n",
    "for label, st in zip(rel_labels, np.abs(stretches[:, 0])):\n",
    "    strain_cluster_dict[label[0]] = st\n",
    "\n",
    "load.save_bfactor(name=rel_pdb,\n",
    "                  bfact=strain_cluster_dict,\n",
    "                  ext='_st_quant_L0')"
   ]
  },
  {
   "cell_type": "code",
   "execution_count": 10,
   "metadata": {},
   "outputs": [],
   "source": [
    "# Create dictionaries and files with principal stretches and rotation angles\n",
    "var_values = [np.abs(stretches[:, 0]), \n",
    "              np.abs(stretches[:, 1]), \n",
    "              np.abs(stretches[:, 2]), \n",
    "              rot_angle]\n",
    "\n",
    "load.save_txt(rel_pdb, def_pdb, var_values, rel_labels, \"l1-l2-l3-rot\")"
   ]
  }
 ],
 "metadata": {
  "kernelspec": {
   "display_name": "Python 3 (ipykernel)",
   "language": "python",
   "name": "python3"
  },
  "language_info": {
   "codemirror_mode": {
    "name": "ipython",
    "version": 3
   },
   "file_extension": ".py",
   "mimetype": "text/x-python",
   "name": "python",
   "nbconvert_exporter": "python",
   "pygments_lexer": "ipython3",
   "version": "3.8.8"
  }
 },
 "nbformat": 4,
 "nbformat_minor": 4
}
