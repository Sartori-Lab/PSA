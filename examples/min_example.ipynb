{
 "cells": [
  {
   "cell_type": "code",
   "execution_count": 1,
   "metadata": {},
   "outputs": [],
   "source": [
    "import warnings\n",
    "warnings.filterwarnings(\"ignore\")\n",
    "\n",
    "import numpy as np\n",
    "\n",
    "# proFSA\n",
    "import fsa.load as load\n",
    "import fsa.spatial as spatial\n",
    "import fsa.sequence as seq\n",
    "import fsa.elastic as elastic"
   ]
  },
  {
   "cell_type": "code",
   "execution_count": 2,
   "metadata": {},
   "outputs": [],
   "source": [
    "# Choice tree to costumize calculations\n",
    "WEIGHT_METHOD = [\"intersect\", \"linear\", \"minimal\"]\n",
    "WEIGHT_METHOD_PARAMS = {\"intersect\": [10.],\n",
    "                        \"linear\": [10., 10.1],\n",
    "                        \"minimal\": [3]}\n",
    "SPATIAL_ALIGNMENT = [True, False] \n",
    "\n",
    "# default choices\n",
    "weight_method = WEIGHT_METHOD[0]\n",
    "weight_method_params = WEIGHT_METHOD_PARAMS[weight_method]\n",
    "spatial_alignment = SPATIAL_ALIGNMENT[0]"
   ]
  },
  {
   "cell_type": "code",
   "execution_count": 3,
   "metadata": {},
   "outputs": [],
   "source": [
    "# Input\n",
    "rel_pdb, def_pdb = '6FKI', '6FKF'\n",
    "\n",
    "# Load\n",
    "rel_pps = load.single_structure(rel_pdb)\n",
    "def_pps = load.single_structure(def_pdb)"
   ]
  },
  {
   "cell_type": "code",
   "execution_count": 4,
   "metadata": {},
   "outputs": [],
   "source": [
    "# Sequence alignment\n",
    "com_res, rel_dict, def_dict = seq.pairwise_alignment(rel_pps, def_pps)"
   ]
  },
  {
   "cell_type": "code",
   "execution_count": 5,
   "metadata": {},
   "outputs": [],
   "source": [
    "# Spatial alignment\n",
    "if spatial_alignment:\n",
    "    spatial.align_structures(rel_pps,\n",
    "                             def_pps,\n",
    "                             common_res = com_res,\n",
    "                             rel_dict = rel_dict,\n",
    "                             def_dict = def_dict)"
   ]
  },
  {
   "cell_type": "code",
   "execution_count": 6,
   "metadata": {},
   "outputs": [],
   "source": [
    "# Coordinates\n",
    "rel_xyz, rel_labels = load.coordinates(rel_pps,\n",
    "                                       com_res,\n",
    "                                       rel_dict)\n",
    "\n",
    "def_xyz, def_labels = load.coordinates(def_pps,\n",
    "                                       com_res,\n",
    "                                       def_dict)"
   ]
  },
  {
   "cell_type": "code",
   "execution_count": 7,
   "metadata": {},
   "outputs": [],
   "source": [
    "# Strain prepare\n",
    "weights = elastic.compute_weights_fast([rel_xyz, def_xyz],\n",
    "                                       method = weight_method,\n",
    "                                       parameters = weight_method_params)\n",
    "\n",
    "F = elastic.deformation_gradient_fast(weights, rel_xyz, def_xyz)\n"
   ]
  },
  {
   "cell_type": "code",
   "execution_count": 8,
   "metadata": {},
   "outputs": [],
   "source": [
    "# Strain results\n",
    "rot_angle, rot_axis = elastic.rotations(F)\n",
    "rot_axis = spatial.vector_to_polar(rel_xyz, rot_axis)\n",
    "_, gam_n = elastic.lagrange_strain(F)\n",
    "stretches, stretch_axis = elastic.principal_stretches_from_g(gam_n)"
   ]
  },
  {
   "cell_type": "code",
   "execution_count": 9,
   "metadata": {},
   "outputs": [],
   "source": [
    "# Save to PDB\n",
    "strain_cluster_dict = {}\n",
    "for label, st in zip(rel_labels, np.abs(stretches[:, 0])):\n",
    "    strain_cluster_dict[label[0]] = st\n",
    "\n",
    "load.save_bfactor(name=rel_pdb,\n",
    "                  bfact=strain_cluster_dict,\n",
    "                  ext='_st_quant_L0')"
   ]
  },
  {
   "cell_type": "code",
   "execution_count": 10,
   "metadata": {},
   "outputs": [],
   "source": [
    "# Create dictionaries and files with principal stretches and rotation angles\n",
    "var_values = [np.abs(stretches[:, 0]), \n",
    "              np.abs(stretches[:, 1]), \n",
    "              np.abs(stretches[:, 2]), \n",
    "              rot_angle]\n",
    "\n",
    "var_names = [\"lambda_1\", \n",
    "             \"lambda_2\", \n",
    "             \"lambda_3\", \n",
    "             \"rotation_angle\"]\n",
    "\n",
    "for name, value in zip(var_names, var_values):\n",
    "    filename = rel_pdb + \"-\" + def_pdb + \"-\" + name\n",
    "    var_cluster_dict = {}\n",
    "    \n",
    "    with open(filename + \".txt\", \"w\") as f:\n",
    "        for label, var in zip(rel_labels, value):\n",
    "            var_cluster_dict[label[0]] = var\n",
    "            f.write(str(label[0]) + \": \" + str(var) + \"\\n\")"
   ]
  }
 ],
 "metadata": {
  "kernelspec": {
   "display_name": "Python 3 (ipykernel)",
   "language": "python",
   "name": "python3"
  },
  "language_info": {
   "codemirror_mode": {
    "name": "ipython",
    "version": 3
   },
   "file_extension": ".py",
   "mimetype": "text/x-python",
   "name": "python",
   "nbconvert_exporter": "python",
   "pygments_lexer": "ipython3",
   "version": "3.8.8"
  }
 },
 "nbformat": 4,
 "nbformat_minor": 4
}
